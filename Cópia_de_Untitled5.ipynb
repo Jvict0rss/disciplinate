{
  "nbformat": 4,
  "nbformat_minor": 0,
  "metadata": {
    "colab": {
      "provenance": [],
      "authorship_tag": "ABX9TyPCyhV7f7ocAv466duBg/QN",
      "include_colab_link": true
    },
    "kernelspec": {
      "name": "python3",
      "display_name": "Python 3"
    },
    "language_info": {
      "name": "python"
    }
  },
  "cells": [
    {
      "cell_type": "markdown",
      "metadata": {
        "id": "view-in-github",
        "colab_type": "text"
      },
      "source": [
        "<a href=\"https://colab.research.google.com/github/Jvict0rss/disciplinate/blob/main/C%C3%B3pia_de_Untitled5.ipynb\" target=\"_parent\"><img src=\"https://colab.research.google.com/assets/colab-badge.svg\" alt=\"Open In Colab\"/></a>"
      ]
    },
    {
      "cell_type": "code",
      "source": [
        "import random\n",
        "\n",
        "print(\"Bem vindo ao jogo da Forca!\")\n",
        "nome_jogador = input(\"Digite o seu nome: \")\n",
        "print(f\"Olá {nome_jogador}, vamos jogar!\")\n",
        "\n",
        "def escolher_palavra(tema):\n",
        "    if tema == \"animais\":\n",
        "        palavras = [\"cachorro\", \"gato\", \"elefante\", \"leão\", \"tigre\"]\n",
        "    elif tema == \"países\":\n",
        "        palavras = [\"brasil\", \"canadá\", \"espanha\", \"japão\", \"méxico\"]\n",
        "    elif tema == \"frutas\":\n",
        "        palavras = [\"banana\", \"laranja\", \"abacaxi\", \"uva\", \"manga\"]\n",
        "    else:\n",
        "        print(\"Tema inválido!\")\n",
        "        return None\n",
        "    \n",
        "    return random.choice(palavras)\n",
        "\n",
        "def jogar_forca():\n",
        "    tema_escolhido = input(\"Escolha um tema (animais, países, frutas): \")\n",
        "    palavra = escolher_palavra(tema_escolhido)\n",
        "    letras_certas = set()\n",
        "    letras_erradas = set()\n",
        "    tentativas = 6\n",
        "    boneco = [\n",
        "        \"  O    |\",\n",
        "        \" /|\\\\   |\",\n",
        "        \" / \\\\   |\"\n",
        "    ]\n",
        "    \n",
        "    while True:\n",
        "        print('\\n' + '-'*20)\n",
        "        desenhar_forca(tentativas, boneco)\n",
        "        print('\\n')\n",
        "        imprimir_palavra(palavra, letras_certas)\n",
        "        print('\\nLetras erradas: ', end='')\n",
        "        imprimir_letras(letras_erradas)\n",
        "        print('\\n' f\"Você tem {tentativas} tentativas\")\n",
        "        \n",
        "        letra = input('\\nDigite uma letra: ').lower()\n",
        "        if letra in letras_certas or letra in letras_erradas:\n",
        "            print('Você já tentou essa letra. Tente outra.')\n",
        "        elif letra in palavra:\n",
        "            letras_certas.add(letra)\n",
        "            if len(letras_certas) == len(set(palavra)):\n",
        "                print('\\nParabéns! Você venceu!')\n",
        "                print('A palavra era', palavra)\n",
        "                break\n",
        "        else:\n",
        "            letras_erradas.add(letra)\n",
        "            tentativas -= 1\n",
        "            if tentativas == 0:\n",
        "                print('\\nGame over! A palavra era', palavra)\n",
        "                desenhar_forca(tentativas, boneco)\n",
        "                break\n",
        "\n",
        "\n",
        "def desenhar_forca(tentativas, boneco):\n",
        "    print(' +----+')\n",
        "    print(' |    |')\n",
        "    for i in range(len(boneco) - tentativas):\n",
        "        print(boneco[i])\n",
        "    for _ in range(tentativas):\n",
        "        print('      |')\n",
        "    print('      |')\n",
        "    print('=========')\n",
        "\n",
        "def imprimir_palavra(palavra, letras_certas):\n",
        "    for letra in palavra:\n",
        "        if letra in letras_certas:\n",
        "            print(letra, end=' ')\n",
        "        else:\n",
        "            print('_', end=' ')\n",
        "\n",
        "def imprimir_letras(letras_erradas):\n",
        "    for letra in letras_erradas:\n",
        "        print(letra, end=' ')\n",
        "\n",
        "# Execução do jogo\n",
        "jogar_forca()"
      ],
      "metadata": {
        "colab": {
          "base_uri": "https://localhost:8080/"
        },
        "id": "y80NPvN2GRpG",
        "outputId": "190087e8-d051-4ba2-9ec8-a66c85895ff7"
      },
      "execution_count": null,
      "outputs": [
        {
          "output_type": "stream",
          "name": "stdout",
          "text": [
            "Bem vindo ao jogo da Forca!\n",
            "Digite o seu nome: jj\n",
            "Olá jj, vamos jogar!\n"
          ]
        }
      ]
    }
  ]
}